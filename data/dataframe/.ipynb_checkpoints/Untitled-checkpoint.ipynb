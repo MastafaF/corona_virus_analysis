{
 "cells": [
  {
   "cell_type": "code",
   "execution_count": null,
   "metadata": {},
   "outputs": [],
   "source": [
    "\"\"\"\n",
    "Updating a plot live\n",
    "\"\"\"\n",
    "import sys\n",
    "import os\n",
    "import pandas as pd\n",
    "from pathlib import Path\n",
    "import shutil\n",
    "DATA_PATH = \"C:/Users/Quentin/Desktop/corona_virus_analysis/data/\"\n",
    "DATAFRAME_PATH = DATA_PATH + \"dataframe/\"\n",
    "CORONA = \"C:/Users/Quentin/Desktop/corona_virus_analysis/\"\n",
    "\n",
    "\n",
    "df = pd.read_csv(DATAFRAME_PATH + 'df_data.tsv', parse_dates=True, sep='\\t')\n",
    "df.rename(columns={\"city\": \"country\", \"country\": \"city\"})\n",
    "df.to_csv(DATAFRAME_PATH + 'df_data1.tsv', sep='\\t')"
   ]
  },
  {
   "cell_type": "code",
   "execution_count": null,
   "metadata": {},
   "outputs": [],
   "source": []
  }
 ],
 "metadata": {
  "kernelspec": {
   "display_name": "Python 3",
   "language": "python",
   "name": "python3"
  },
  "language_info": {
   "codemirror_mode": {
    "name": "ipython",
    "version": 3
   },
   "file_extension": ".py",
   "mimetype": "text/x-python",
   "name": "python",
   "nbconvert_exporter": "python",
   "pygments_lexer": "ipython3",
   "version": "3.7.4"
  }
 },
 "nbformat": 4,
 "nbformat_minor": 2
}
